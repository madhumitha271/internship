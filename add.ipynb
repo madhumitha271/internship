{
 "cells": [
  {
   "cell_type": "code",
   "execution_count": null,
   "id": "62518630-5c0e-4931-bc2f-f6112b907126",
   "metadata": {},
   "outputs": [],
   "source": []
  },
  {
   "cell_type": "code",
   "execution_count": 4,
   "id": "b674a39e-5ae1-4652-bf15-006e7c9f3892",
   "metadata": {},
   "outputs": [
    {
     "name": "stdout",
     "output_type": "stream",
     "text": [
      "hi\n"
     ]
    }
   ],
   "source": [
    "print(\"hi\")\n"
   ]
  },
  {
   "cell_type": "code",
   "execution_count": 5,
   "id": "f49e7272-3917-4af3-9675-4232943141b2",
   "metadata": {},
   "outputs": [
    {
     "name": "stdout",
     "output_type": "stream",
     "text": [
      "30\n"
     ]
    }
   ],
   "source": [
    "a=10\n",
    "b=20\n",
    "c=a+b\n",
    "print(c)"
   ]
  },
  {
   "cell_type": "raw",
   "id": "04cd5476-b50f-4729-8cd3-a1461dc9a741",
   "metadata": {},
   "source": []
  },
  {
   "cell_type": "code",
   "execution_count": null,
   "id": "a880aa38-8405-440d-a012-3daf42f23672",
   "metadata": {},
   "outputs": [],
   "source": [
    "a=int(input(a))\n",
    "b=int(input(b))\n"
   ]
  },
  {
   "cell_type": "code",
   "execution_count": null,
   "id": "a6577fa5-09c1-449d-93b5-c544ff8abe25",
   "metadata": {},
   "outputs": [],
   "source": []
  },
  {
   "cell_type": "code",
   "execution_count": null,
   "id": "0b78fc61-9fe4-4ca7-8bb7-332082ca42e9",
   "metadata": {},
   "outputs": [],
   "source": []
  },
  {
   "cell_type": "code",
   "execution_count": null,
   "id": "88212788-5521-4dea-adcb-343bd6c60f94",
   "metadata": {},
   "outputs": [],
   "source": []
  }
 ],
 "metadata": {
  "kernelspec": {
   "display_name": "Python 3 (ipykernel)",
   "language": "python",
   "name": "python3"
  },
  "language_info": {
   "codemirror_mode": {
    "name": "ipython",
    "version": 3
   },
   "file_extension": ".py",
   "mimetype": "text/x-python",
   "name": "python",
   "nbconvert_exporter": "python",
   "pygments_lexer": "ipython3",
   "version": "3.13.5"
  }
 },
 "nbformat": 4,
 "nbformat_minor": 5
}
