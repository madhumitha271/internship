{
 "cells": [
  {
   "cell_type": "code",
   "execution_count": 3,
   "id": "beeb75da-51f8-47a0-ae2c-71883479fd40",
   "metadata": {},
   "outputs": [],
   "source": [
    "str=('M')"
   ]
  },
  {
   "cell_type": "code",
   "execution_count": 5,
   "id": "271f391a-e3f2-4703-8f41-62f92d7bf28f",
   "metadata": {},
   "outputs": [
    {
     "name": "stdout",
     "output_type": "stream",
     "text": [
      "<class 'str'>\n"
     ]
    }
   ],
   "source": [
    "print(str)"
   ]
  },
  {
   "cell_type": "code",
   "execution_count": null,
   "id": "c811963d-3a51-403c-94e2-4a62ee0ba8bb",
   "metadata": {},
   "outputs": [],
   "source": [
    "list=['M','N']"
   ]
  },
  {
   "cell_type": "code",
   "execution_count": 6,
   "id": "9a96f44e-fc48-47cd-96ad-1aeb6d75eebc",
   "metadata": {},
   "outputs": [
    {
     "name": "stdout",
     "output_type": "stream",
     "text": [
      "<class 'type'>\n"
     ]
    }
   ],
   "source": [
    "print(type(list))"
   ]
  },
  {
   "cell_type": "code",
   "execution_count": 8,
   "id": "7d863987-92ef-4b9b-af03-6287f4aaaee4",
   "metadata": {},
   "outputs": [
    {
     "name": "stdout",
     "output_type": "stream",
     "text": [
      "('M', 'N', 'T')\n"
     ]
    }
   ],
   "source": [
    "a=('M','N','T')\n",
    "print(a)"
   ]
  },
  {
   "cell_type": "raw",
   "id": "34d86841-bdd3-4523-a0be-bc5e585b1bf3",
   "metadata": {},
   "source": []
  },
  {
   "cell_type": "code",
   "execution_count": 9,
   "id": "6f9d8728-fb63-4af0-81f8-e8401a45b6cc",
   "metadata": {},
   "outputs": [
    {
     "name": "stdout",
     "output_type": "stream",
     "text": [
      "type['M', 'N', 'T']\n"
     ]
    }
   ],
   "source": [
    "print(type[a])"
   ]
  },
  {
   "cell_type": "code",
   "execution_count": 10,
   "id": "871dd62c-89b5-486d-a70c-248b7d9c431a",
   "metadata": {},
   "outputs": [],
   "source": [
    "name={'1','2','3'}"
   ]
  },
  {
   "cell_type": "code",
   "execution_count": 11,
   "id": "da59d8d7-2f4d-4e32-aab6-36883e23e325",
   "metadata": {},
   "outputs": [
    {
     "name": "stdout",
     "output_type": "stream",
     "text": [
      "<class 'set'>\n"
     ]
    }
   ],
   "source": [
    "print(type(name))"
   ]
  },
  {
   "cell_type": "code",
   "execution_count": 13,
   "id": "a1efddb5-597d-45c1-ad68-bc488d906389",
   "metadata": {},
   "outputs": [],
   "source": [
    "M=['p','o']"
   ]
  },
  {
   "cell_type": "code",
   "execution_count": 14,
   "id": "898a8875-8685-41b3-a0e9-406a139a7d92",
   "metadata": {},
   "outputs": [
    {
     "name": "stdout",
     "output_type": "stream",
     "text": [
      "<class 'list'>\n"
     ]
    }
   ],
   "source": [
    "print(type(M))"
   ]
  },
  {
   "cell_type": "code",
   "execution_count": 18,
   "id": "50e5cdb4-0c5b-4c02-806e-6d69e0626a9f",
   "metadata": {},
   "outputs": [],
   "source": [
    "P={\"name\":\"mithra\"}"
   ]
  },
  {
   "cell_type": "raw",
   "id": "27d106c2-1051-4f9a-acd1-9d7213a00e7a",
   "metadata": {},
   "source": []
  },
  {
   "cell_type": "code",
   "execution_count": 19,
   "id": "8b555b8e-2c04-4c72-89ec-7d52926c39f6",
   "metadata": {},
   "outputs": [
    {
     "name": "stdout",
     "output_type": "stream",
     "text": [
      "{'name': 'mithra'}\n"
     ]
    }
   ],
   "source": [
    "print(P)"
   ]
  },
  {
   "cell_type": "code",
   "execution_count": 20,
   "id": "28372808-07be-4ce4-8613-3f1a68f91a74",
   "metadata": {},
   "outputs": [
    {
     "name": "stdout",
     "output_type": "stream",
     "text": [
      "<class 'dict'>\n"
     ]
    }
   ],
   "source": [
    "print(type(P))"
   ]
  },
  {
   "cell_type": "code",
   "execution_count": 21,
   "id": "1f27bad1-8b27-48bc-954f-2539acc66eb0",
   "metadata": {},
   "outputs": [],
   "source": [
    "num=[]"
   ]
  },
  {
   "cell_type": "code",
   "execution_count": 22,
   "id": "3f1bcc4e-8752-4d30-936d-1c6e925dd9b0",
   "metadata": {},
   "outputs": [
    {
     "name": "stdout",
     "output_type": "stream",
     "text": [
      "<class 'list'>\n"
     ]
    }
   ],
   "source": [
    "print(type(num))"
   ]
  },
  {
   "cell_type": "code",
   "execution_count": 23,
   "id": "e17d6a76-3d16-4066-80db-c03faf99b2a4",
   "metadata": {},
   "outputs": [],
   "source": [
    "num=()"
   ]
  },
  {
   "cell_type": "code",
   "execution_count": 24,
   "id": "bf318601-ab5f-4bd0-9aad-27b5bc2f08f5",
   "metadata": {},
   "outputs": [
    {
     "name": "stdout",
     "output_type": "stream",
     "text": [
      "<class 'tuple'>\n"
     ]
    }
   ],
   "source": [
    "print(type(num))"
   ]
  },
  {
   "cell_type": "code",
   "execution_count": 25,
   "id": "cca6c8d0-19eb-400b-8bf3-38adb430d1c2",
   "metadata": {},
   "outputs": [],
   "source": [
    "name=(\"Madhumitha\")"
   ]
  },
  {
   "cell_type": "code",
   "execution_count": 26,
   "id": "e737683b-ec88-4282-9b6d-aef03ee324a9",
   "metadata": {},
   "outputs": [
    {
     "name": "stdout",
     "output_type": "stream",
     "text": [
      "Madhumitha\n"
     ]
    }
   ],
   "source": [
    "print(name)"
   ]
  },
  {
   "cell_type": "code",
   "execution_count": 27,
   "id": "ca71f6bb-9e97-4e3f-b0ea-4922c217f2f8",
   "metadata": {},
   "outputs": [
    {
     "name": "stdout",
     "output_type": "stream",
     "text": [
      "<class 'str'>\n"
     ]
    }
   ],
   "source": [
    "print(type(name))"
   ]
  },
  {
   "cell_type": "code",
   "execution_count": 29,
   "id": "8f529b87-2e93-4feb-862c-a650fc256ea1",
   "metadata": {},
   "outputs": [
    {
     "name": "stdout",
     "output_type": "stream",
     "text": [
      "Madhumith\n"
     ]
    }
   ],
   "source": [
    "print(name[0:9])"
   ]
  },
  {
   "cell_type": "raw",
   "id": "c719bc4d-9dbe-4c9a-a41b-95c503323ea3",
   "metadata": {},
   "source": []
  },
  {
   "cell_type": "code",
   "execution_count": 30,
   "id": "b67c20c4-6d70-47c0-a122-9db40d978c42",
   "metadata": {},
   "outputs": [
    {
     "name": "stdout",
     "output_type": "stream",
     "text": [
      "ahtimuhdaM\n"
     ]
    }
   ],
   "source": [
    "print(name[::-1])"
   ]
  },
  {
   "cell_type": "code",
   "execution_count": 33,
   "id": "28be339d-1e7d-4ab2-a9d5-4ea54ac07885",
   "metadata": {},
   "outputs": [
    {
     "name": "stdout",
     "output_type": "stream",
     "text": [
      "Muh\n"
     ]
    }
   ],
   "source": [
    "print(name[::4])"
   ]
  },
  {
   "cell_type": "code",
   "execution_count": null,
   "id": "7e9d2f71-08ee-4c67-98ae-843fc3830387",
   "metadata": {},
   "outputs": [],
   "source": []
  }
 ],
 "metadata": {
  "kernelspec": {
   "display_name": "Python 3 (ipykernel)",
   "language": "python",
   "name": "python3"
  },
  "language_info": {
   "codemirror_mode": {
    "name": "ipython",
    "version": 3
   },
   "file_extension": ".py",
   "mimetype": "text/x-python",
   "name": "python",
   "nbconvert_exporter": "python",
   "pygments_lexer": "ipython3",
   "version": "3.13.5"
  }
 },
 "nbformat": 4,
 "nbformat_minor": 5
}
